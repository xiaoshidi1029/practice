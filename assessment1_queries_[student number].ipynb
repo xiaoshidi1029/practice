{
 "cells": [
  {
   "cell_type": "markdown",
   "metadata": {},
   "source": [
    "# Assessment 1  (20 marks)"
   ]
  },
  {
   "cell_type": "markdown",
   "metadata": {},
   "source": [
    "## Writing queries [12 marks]"
   ]
  },
  {
   "cell_type": "code",
   "execution_count": null,
   "metadata": {},
   "outputs": [],
   "source": [
    "# adapt this code to connect to your newly created database\n",
    "import pymysql\n",
    "\n",
    "password = ''\n",
    "\n",
    "# Connect to the database\n",
    "connection = pymysql.connect(host='csmysql.cs.cf.ac.uk',\n",
    "                             user='',\n",
    "                             password=password,\n",
    "                             db='',\n",
    "                             charset='utf8mb4',\n",
    "                             cursorclass=pymysql.cursors.DictCursor)"
   ]
  },
  {
   "cell_type": "markdown",
   "metadata": {},
   "source": [
    "### Questions"
   ]
  },
  {
   "cell_type": "markdown",
   "metadata": {},
   "source": [
    "**1 - Users with highest scores over time** [0.5 marks]\n",
    "- Implement a query that returns the users with the highest aggregate scores (over all their posts) for the whole dataset. You should restrict your results to only those whose aggregated score is above 10,000 points, in descending order. Your query should return two columns: `username` and `aggr_scores`."
   ]
  },
  {
   "cell_type": "code",
   "execution_count": null,
   "metadata": {},
   "outputs": [],
   "source": [
    "def users_with_best_scores():\n",
    "    # your code here\n",
    "    return results"
   ]
  },
  {
   "cell_type": "code",
   "execution_count": null,
   "metadata": {
    "scrolled": false
   },
   "outputs": [],
   "source": [
    "users_with_best_scores()"
   ]
  },
  {
   "cell_type": "markdown",
   "metadata": {},
   "source": [
    "**2 - Favourited subreddits with numbers _but not 19_** [0.5 marks]\n",
    "- Implement a query that returns the set of subreddit names who have been favorited at least once and that contain any number in their name, but you should exclude those with the digit '19', as we want to filter out COVID-19 subreddit names. Your query should only return one column: `subreddit`."
   ]
  },
  {
   "cell_type": "code",
   "execution_count": null,
   "metadata": {},
   "outputs": [],
   "source": [
    "def faved_subreddits_with_numbers_in_name():\n",
    "    # your code here\n",
    "    return results"
   ]
  },
  {
   "cell_type": "code",
   "execution_count": null,
   "metadata": {},
   "outputs": [],
   "source": [
    "faved_subreddits_with_numbers_in_name()"
   ]
  },
  {
   "cell_type": "markdown",
   "metadata": {},
   "source": [
    "**3 - Most active users who add subreddits to their favorites.** [0.5 marks]\n",
    "- Implement a query that returns the top 20 users in terms of the number of subreddits they have favourited. Since several users have favourited the same number of subreddits, you need to order your results, first, by number of favourites per user, and secondly, alphabetically by user name. The alphabetical order should be, first any number, then A-Z (irrespective of case). Your query should return two columns: `username` and `numb_favs`."
   ]
  },
  {
   "cell_type": "code",
   "execution_count": null,
   "metadata": {},
   "outputs": [],
   "source": [
    "def users_that_favourite_the_most():\n",
    "    # your code here\n",
    "    return results"
   ]
  },
  {
   "cell_type": "code",
   "execution_count": null,
   "metadata": {},
   "outputs": [],
   "source": [
    "users_that_favourite_the_most()"
   ]
  },
  {
   "cell_type": "markdown",
   "metadata": {},
   "source": [
    "**4 - Awarded posts** [0.5 marks]\n",
    "- Implement a query that returns the number of posts who have received at least one award. Your query should return only one value."
   ]
  },
  {
   "cell_type": "code",
   "execution_count": null,
   "metadata": {},
   "outputs": [],
   "source": [
    "def awarded_posts():\n",
    "    # your code here\n",
    "    return results"
   ]
  },
  {
   "cell_type": "code",
   "execution_count": null,
   "metadata": {
    "scrolled": true
   },
   "outputs": [],
   "source": [
    "awarded_posts()"
   ]
  },
  {
   "cell_type": "markdown",
   "metadata": {},
   "source": [
    "**5 - Find Covid subreddits in name and description.** [1 mark]\n",
    "- Implement a query that retrieves the name and description of all subreddits where the name starts with _covid_ or _corona_ and the description contains _covid_ anywhere. The returned table should have two columns: `name` and `description`."
   ]
  },
  {
   "cell_type": "code",
   "execution_count": null,
   "metadata": {},
   "outputs": [],
   "source": [
    "def covid_subreddits():\n",
    "    # your code here\n",
    "    return results"
   ]
  },
  {
   "cell_type": "code",
   "execution_count": null,
   "metadata": {},
   "outputs": [],
   "source": [
    "covid_subreddits()"
   ]
  },
  {
   "cell_type": "markdown",
   "metadata": {},
   "source": [
    "**6 - Find users in haystack** [1 mark]\n",
    "- Implement a query that retrieves _only the names_ of those users who have at least 3 posts with the same score as their number of comments, and their username contains the string _meme_ anywhere. Your returned table should contain only one column: `username`."
   ]
  },
  {
   "cell_type": "code",
   "execution_count": null,
   "metadata": {},
   "outputs": [],
   "source": [
    "def haystack():\n",
    "    # your code here\n",
    "    return results"
   ]
  },
  {
   "cell_type": "code",
   "execution_count": null,
   "metadata": {},
   "outputs": [],
   "source": [
    "haystack()"
   ]
  },
  {
   "cell_type": "markdown",
   "metadata": {},
   "source": [
    "**7 - Subreddits with the highest average upvote ratio** [1 mark]\n",
    "- Implement a query that shows the 10 top subreddits in terms of the average upvote ratio of the users that posted in them. Your query should return two columns: `subr_name` and `avg_upv_ratio`."
   ]
  },
  {
   "cell_type": "code",
   "execution_count": null,
   "metadata": {},
   "outputs": [],
   "source": [
    "def avg_upvote_ratio_per_subreddit():\n",
    "    # your code here\n",
    "    return results"
   ]
  },
  {
   "cell_type": "code",
   "execution_count": null,
   "metadata": {},
   "outputs": [],
   "source": [
    "avg_upvote_ratio_per_subreddit()"
   ]
  },
  {
   "cell_type": "markdown",
   "metadata": {},
   "source": [
    "**8 - What are the chances** [1 mark]\n",
    "- Implement a query that finds those posts whose length (in number of characters) is exactly the same as the length of the description of the subreddit in which they were posted on. You should retrieve the following columns: `subreddit_name`, `posting_user`, `user_registered_at`, `post_full_text`, `post_description` and `dif` (which should show the difference in characters between the subreddit description and the post."
   ]
  },
  {
   "cell_type": "code",
   "execution_count": null,
   "metadata": {},
   "outputs": [],
   "source": [
    "def what_are_the_chances():\n",
    "    # your code here\n",
    "    return results"
   ]
  },
  {
   "cell_type": "code",
   "execution_count": null,
   "metadata": {
    "scrolled": true
   },
   "outputs": [],
   "source": [
    "what_are_the_chances()"
   ]
  },
  {
   "cell_type": "markdown",
   "metadata": {},
   "source": [
    "**9 - Most active December 2020 days.** [1 mark]\n",
    "- Write a query that retrieves _only_ a ranked list of the most prolific days in December 2020, prolific measured in number of posts per day. Your query should return those days in a single-column table (column name `post_day`) in the format `YYYY-MM-DD`."
   ]
  },
  {
   "cell_type": "code",
   "execution_count": null,
   "metadata": {},
   "outputs": [],
   "source": [
    "def most_prolific_days():\n",
    "    # your code here\n",
    "    return results"
   ]
  },
  {
   "cell_type": "code",
   "execution_count": null,
   "metadata": {},
   "outputs": [],
   "source": [
    "most_prolific_days()"
   ]
  },
  {
   "cell_type": "markdown",
   "metadata": {},
   "source": [
    "**10 - Top 'covid'-mentioning users.** [1 mark]\n",
    "- Retrieve the top 5 users in terms of how often they have mentioned the term 'covid' in their posts. Your query should return two columns: `username` and `total_count`. You will consider an occurrence of the word 'covid' only when it appears before and after a whitespace (i.e., `<space>covid<space>`) and irrespective of case (both `<space>Covid<space>` and `<space>covid<space>` would be valid hits)."
   ]
  },
  {
   "cell_type": "code",
   "execution_count": null,
   "metadata": {},
   "outputs": [],
   "source": [
    "def count_covid():\n",
    "    # your code here\n",
    "    return results"
   ]
  },
  {
   "cell_type": "code",
   "execution_count": null,
   "metadata": {},
   "outputs": [],
   "source": [
    "count_covid()"
   ]
  },
  {
   "cell_type": "markdown",
   "metadata": {},
   "source": [
    "**11 - Top 10 users whose posts reached the most users only in their fav subreddits.** [2 marks]\n",
    "- Write a query to retrieve a list of **10** users sorted in descending order by the number of users their messages reached, considering only the subset of users belonging to their favourited subreddits. Your query must return only one column: `username`."
   ]
  },
  {
   "cell_type": "code",
   "execution_count": null,
   "metadata": {},
   "outputs": [],
   "source": [
    "def best_users_per_faved_subr_outreach():\n",
    "    # your code here\n",
    "    return results"
   ]
  },
  {
   "cell_type": "code",
   "execution_count": null,
   "metadata": {},
   "outputs": [],
   "source": [
    "best_users_per_faved_subr_outreach()"
   ]
  },
  {
   "cell_type": "markdown",
   "metadata": {},
   "source": [
    "**12 - Users with mean high score for their posts.** [2 marks]\n",
    "- Retrieve the number of users (ignoring the username 'None') with an average score for their posts which is higher than the average score for the posts in our dataset. Your query should return only one result, under the column `result`."
   ]
  },
  {
   "cell_type": "code",
   "execution_count": null,
   "metadata": {},
   "outputs": [],
   "source": [
    "def users_score_above_mean():\n",
    "    # your code here\n",
    "    return results"
   ]
  },
  {
   "cell_type": "code",
   "execution_count": null,
   "metadata": {},
   "outputs": [],
   "source": [
    "users_score_above_mean()"
   ]
  }
 ],
 "metadata": {
  "kernelspec": {
   "display_name": "Python 3",
   "language": "python",
   "name": "python3"
  },
  "language_info": {
   "codemirror_mode": {
    "name": "ipython",
    "version": 3
   },
   "file_extension": ".py",
   "mimetype": "text/x-python",
   "name": "python",
   "nbconvert_exporter": "python",
   "pygments_lexer": "ipython3",
   "version": "3.6.9"
  }
 },
 "nbformat": 4,
 "nbformat_minor": 4
}
